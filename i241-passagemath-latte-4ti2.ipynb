{
  "nbformat": 4,
  "nbformat_minor": 0,
  "metadata": {
    "colab": {
      "provenance": [],
      "authorship_tag": "ABX9TyOb3sG8RecKgbLA8hBs/5wY",
      "include_colab_link": true
    },
    "kernelspec": {
      "name": "python3",
      "display_name": "Python 3"
    },
    "language_info": {
      "name": "python"
    }
  },
  "cells": [
    {
      "cell_type": "markdown",
      "metadata": {
        "id": "view-in-github",
        "colab_type": "text"
      },
      "source": [
        "<a href=\"https://colab.research.google.com/github/coatless/pyopensci-eic/blob/main/i241-passagemath-latte-4ti2.ipynb\" target=\"_parent\"><img src=\"https://colab.research.google.com/assets/colab-badge.svg\" alt=\"Open In Colab\"/></a>"
      ]
    },
    {
      "cell_type": "code",
      "execution_count": 2,
      "metadata": {
        "colab": {
          "base_uri": "https://localhost:8080/"
        },
        "id": "rWYt5ny-s6Yg",
        "outputId": "94b68b70-e2ca-4cd0-fb35-05b283ce31e8"
      },
      "outputs": [
        {
          "output_type": "stream",
          "name": "stdout",
          "text": [
            "Collecting passagemath-latte-4ti2\n",
            "  Downloading passagemath_latte_4ti2-10.5.31-cp311-cp311-manylinux_2_28_x86_64.whl.metadata (6.8 kB)\n",
            "Collecting cysignals==1.12.0rc2 (from passagemath-latte-4ti2)\n",
            "  Downloading cysignals-1.12.0rc2-cp311-cp311-manylinux_2_17_x86_64.manylinux2014_x86_64.whl.metadata (4.0 kB)\n",
            "Collecting passagemath-categories~=10.5.31.0 (from passagemath-latte-4ti2)\n",
            "  Downloading passagemath_categories-10.5.31-cp311-cp311-manylinux_2_28_x86_64.whl.metadata (8.4 kB)\n",
            "Collecting passagemath-cddlib~=10.5.31.0 (from passagemath-latte-4ti2)\n",
            "  Downloading passagemath_cddlib-10.5.31-cp311-cp311-manylinux_2_28_x86_64.whl.metadata (4.4 kB)\n",
            "Collecting passagemath-objects~=10.5.31.0 (from passagemath-categories~=10.5.31.0->passagemath-latte-4ti2)\n",
            "  Downloading passagemath_objects-10.5.31-cp311-cp311-manylinux_2_28_x86_64.whl.metadata (4.9 kB)\n",
            "Collecting memory_allocator (from passagemath-categories~=10.5.31.0->passagemath-latte-4ti2)\n",
            "  Downloading memory_allocator-0.1.4-cp311-cp311-manylinux_2_5_x86_64.manylinux1_x86_64.manylinux_2_17_x86_64.manylinux2014_x86_64.whl.metadata (1.7 kB)\n",
            "Collecting passagemath-environment~=10.5.31.0 (from passagemath-cddlib~=10.5.31.0->passagemath-latte-4ti2)\n",
            "  Downloading passagemath_environment-10.5.31-py3-none-any.whl.metadata (5.6 kB)\n",
            "Collecting gmpy2~=2.1.b999 (from passagemath-objects~=10.5.31.0->passagemath-categories~=10.5.31.0->passagemath-latte-4ti2)\n",
            "  Downloading gmpy2-2.2.1-cp311-cp311-manylinux_2_17_x86_64.manylinux2014_x86_64.whl.metadata (2.8 kB)\n",
            "Requirement already satisfied: Cython in /usr/local/lib/python3.11/dist-packages (from memory_allocator->passagemath-categories~=10.5.31.0->passagemath-latte-4ti2) (3.0.12)\n",
            "Downloading passagemath_latte_4ti2-10.5.31-cp311-cp311-manylinux_2_28_x86_64.whl (64.9 MB)\n",
            "\u001b[2K   \u001b[90m━━━━━━━━━━━━━━━━━━━━━━━━━━━━━━━━━━━━━━━━\u001b[0m \u001b[32m64.9/64.9 MB\u001b[0m \u001b[31m9.3 MB/s\u001b[0m eta \u001b[36m0:00:00\u001b[0m\n",
            "\u001b[?25hDownloading cysignals-1.12.0rc2-cp311-cp311-manylinux_2_17_x86_64.manylinux2014_x86_64.whl (1.2 MB)\n",
            "\u001b[2K   \u001b[90m━━━━━━━━━━━━━━━━━━━━━━━━━━━━━━━━━━━━━━━━\u001b[0m \u001b[32m1.2/1.2 MB\u001b[0m \u001b[31m13.7 MB/s\u001b[0m eta \u001b[36m0:00:00\u001b[0m\n",
            "\u001b[?25hDownloading passagemath_categories-10.5.31-cp311-cp311-manylinux_2_28_x86_64.whl (47.2 MB)\n",
            "\u001b[2K   \u001b[90m━━━━━━━━━━━━━━━━━━━━━━━━━━━━━━━━━━━━━━━━\u001b[0m \u001b[32m47.2/47.2 MB\u001b[0m \u001b[31m10.4 MB/s\u001b[0m eta \u001b[36m0:00:00\u001b[0m\n",
            "\u001b[?25hDownloading passagemath_cddlib-10.5.31-cp311-cp311-manylinux_2_28_x86_64.whl (887 kB)\n",
            "\u001b[2K   \u001b[90m━━━━━━━━━━━━━━━━━━━━━━━━━━━━━━━━━━━━━━━━\u001b[0m \u001b[32m887.7/887.7 kB\u001b[0m \u001b[31m19.1 MB/s\u001b[0m eta \u001b[36m0:00:00\u001b[0m\n",
            "\u001b[?25hDownloading passagemath_environment-10.5.31-py3-none-any.whl (131 kB)\n",
            "\u001b[2K   \u001b[90m━━━━━━━━━━━━━━━━━━━━━━━━━━━━━━━━━━━━━━━━\u001b[0m \u001b[32m131.1/131.1 kB\u001b[0m \u001b[31m6.8 MB/s\u001b[0m eta \u001b[36m0:00:00\u001b[0m\n",
            "\u001b[?25hDownloading passagemath_objects-10.5.31-cp311-cp311-manylinux_2_28_x86_64.whl (17.5 MB)\n",
            "\u001b[2K   \u001b[90m━━━━━━━━━━━━━━━━━━━━━━━━━━━━━━━━━━━━━━━━\u001b[0m \u001b[32m17.5/17.5 MB\u001b[0m \u001b[31m48.5 MB/s\u001b[0m eta \u001b[36m0:00:00\u001b[0m\n",
            "\u001b[?25hDownloading memory_allocator-0.1.4-cp311-cp311-manylinux_2_5_x86_64.manylinux1_x86_64.manylinux_2_17_x86_64.manylinux2014_x86_64.whl (527 kB)\n",
            "\u001b[2K   \u001b[90m━━━━━━━━━━━━━━━━━━━━━━━━━━━━━━━━━━━━━━━━\u001b[0m \u001b[32m527.8/527.8 kB\u001b[0m \u001b[31m18.4 MB/s\u001b[0m eta \u001b[36m0:00:00\u001b[0m\n",
            "\u001b[?25hDownloading gmpy2-2.2.1-cp311-cp311-manylinux_2_17_x86_64.manylinux2014_x86_64.whl (1.7 MB)\n",
            "\u001b[2K   \u001b[90m━━━━━━━━━━━━━━━━━━━━━━━━━━━━━━━━━━━━━━━━\u001b[0m \u001b[32m1.7/1.7 MB\u001b[0m \u001b[31m32.2 MB/s\u001b[0m eta \u001b[36m0:00:00\u001b[0m\n",
            "\u001b[?25hInstalling collected packages: cysignals, passagemath-environment, memory_allocator, gmpy2, passagemath-objects, passagemath-cddlib, passagemath-categories, passagemath-latte-4ti2\n",
            "Successfully installed cysignals-1.12.0rc2 gmpy2-2.2.1 memory_allocator-0.1.4 passagemath-categories-10.5.31 passagemath-cddlib-10.5.31 passagemath-environment-10.5.31 passagemath-latte-4ti2-10.5.31 passagemath-objects-10.5.31\n"
          ]
        }
      ],
      "source": [
        "!pip install passagemath-latte-4ti2"
      ]
    },
    {
      "cell_type": "code",
      "source": [
        "from sage.interfaces.latte import count\n",
        "cdd_Hrep = 'H-representation\\nbegin\\n 6 4 rational\\n 2 -1 0 0\\n 2 0 -1 0\\n 2 0 0 -1\\n 2 1 0 0\\n 2 0 0 1\\n 2 0 1 0\\nend\\n'\n",
        "count(cdd_Hrep, cdd=True)"
      ],
      "metadata": {
        "colab": {
          "base_uri": "https://localhost:8080/"
        },
        "id": "OGRHmnCwtzFX",
        "outputId": "1c52c4d7-1da2-40a4-cbcb-3227aef827ef"
      },
      "execution_count": 12,
      "outputs": [
        {
          "output_type": "execute_result",
          "data": {
            "text/plain": [
              "125"
            ]
          },
          "metadata": {},
          "execution_count": 12
        }
      ]
    },
    {
      "cell_type": "markdown",
      "source": [
        "Akin to running:"
      ],
      "metadata": {
        "id": "hQDJDZgrwvo9"
      }
    },
    {
      "cell_type": "code",
      "source": [
        "# !pipx run --pip-args=\"--prefer-binary\" --spec \"passagemath-latte-4ti2[test]\" ipython\n"
      ],
      "metadata": {
        "id": "7XUO0JKXwvZs"
      },
      "execution_count": null,
      "outputs": []
    }
  ]
}